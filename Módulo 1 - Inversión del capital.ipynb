{
 "cells": [
  {
   "cell_type": "markdown",
   "metadata": {},
   "source": [
    "<center> <img src=\"https://i0.wp.com/ceppe.org.mx/wp-content/uploads/2015/11/Logo_Horizontal_ITESO.jpg?fit=1713%2C789&ssl=1\" align=\"center\" width=\"960\" height=\"480\"/> </center>"
   ]
  },
  {
   "cell_type": "markdown",
   "metadata": {},
   "source": [
    "<center><font color=#555555><font size=6> MAF1731 - Microstructure and Trading Systems </font> <br> <br>\n",
    "    \n",
    "<center><font color=#555555><font size=5> Financial Engineering </font> <br> <br> <br> <br>\n",
    "    \n",
    "<center><font color=#555555><font size=5> Christian Eduardo González Reyes </font> <br> <br> <br> <br>\n",
    "    \n",
    "<center><font color=#555555><font size=5> 10/02/2023 </font> <br> <br> <br> <br>\n",
    "\n",
    "   \n",
    "<center> <font color= #555555> <font size = 4> Ene 2023 </a> | <font color= #555555> <font size = 4> Repository: <a href='https://github.com/CGONZALEZ991022/Laboratorio-1'>Link</a></font>"
   ]
  },
  {
   "cell_type": "markdown",
   "metadata": {},
   "source": [
    "<hr style=\"border:0.02in solid gray\"> </hr>"
   ]
  },
  {
   "cell_type": "markdown",
   "metadata": {},
   "source": [
    "<center> <font color= #555555> <font size = 6> Module 1 </font> <br> <br> <font color= #555555> <font size = 5>Inversión del capital  </font>"
   ]
  },
  {
   "cell_type": "markdown",
   "metadata": {},
   "source": [
    "<hr style=\"border:0.02in solid gray\"> </hr>"
   ]
  },
  {
   "cell_type": "markdown",
   "metadata": {},
   "source": [
    "<center> <font color= #555555> <font size = 6> Librerías y dependencias </font> <br> <br> <font color= #555555> "
   ]
  },
  {
   "cell_type": "code",
   "execution_count": 8,
   "metadata": {},
   "outputs": [],
   "source": [
    "#Librerias que se utilizaron para este laboratorio\n",
    "import pandas as pd\n",
    "import numpy as np\n",
    "import plotly.express as px"
   ]
  },
  {
   "cell_type": "markdown",
   "metadata": {},
   "source": [
    "<hr style=\"border:0.02in solid gray\"> </hr>"
   ]
  },
  {
   "cell_type": "markdown",
   "metadata": {},
   "source": [
    "<center> <font color= #555555> <font size = 6> Introducción </font> <br> <br> <font color= #555555> "
   ]
  },
  {
   "cell_type": "markdown",
   "metadata": {},
   "source": [
    "En este Laboratorio 1, se tiene un caso sobre: **¿Qué estrategia de inversión propondrías si tu trabajo fuera invertir 1 Millón de pesos?** Para esto se tendra que simular un caso donde tienes **1 Millón de pesos**, tienes dos opciones para invertirlos. Por un lado, puedes hacer una **Inversión Pasiva del capital**, comprando el **100% del capital** de títulos de un ETF que replica al mercado de renta variable mexicano **S&P/BMV IPC** que es el **NAFTRAC**. Pero por otro lado, puedes hacer una **Inversión Activa del capital**, al crear un portafolio que tenga los mismos activos que el **ETF** y haciendo el rebalanceo por medio de un algoritmo en específico.\n",
    "\n",
    "Debemos de considerar que **La inversión activa** implica toma de decisiones individuales sobre qué valores comprar, mientras que la **inversión pasiva** es seguir el mercado y comprar un índice representativo. **La inversión activa** puede ser más costosa y ofrecer más control y flexibilidad, mientras que **la inversión pasiva** es más fácil y menos costosa y se basa en la eficiencia del mercado. Ambas opciones tienen riesgos similares y no hay garantía de que la activa sea más rentable que la pasiva."
   ]
  },
  {
   "cell_type": "markdown",
   "metadata": {},
   "source": [
    "<hr style=\"border:0.02in solid gray\"> </hr>"
   ]
  },
  {
   "cell_type": "markdown",
   "metadata": {},
   "source": [
    "<center> <font color= #555555> <font size = 6> Objetivos </font> <br> <br> <font color= #555555> "
   ]
  },
  {
   "cell_type": "markdown",
   "metadata": {},
   "source": [
    "Los objetivos que se identifican en este Laboratorio son los siguientes:\n",
    "\n",
    "\n",
    "<ol>\n",
    "  <li>Diferenciar entre la inversión activa y la inversión pasiva.</li>\n",
    "  <li>Explicar las características de cada tipo de inversión, como el costo, el control, la flexibilidad, la facilidad, la base en la eficiencia del mercado, etc.</li>\n",
    "  <li>Señalar los riesgos similares asociados con ambos tipos de inversión.\n",
    "</li>\n",
    "  <li>Señalar la ausencia de garantías de que la inversión activa sea más rentable que la inversión pasiva.\n",
    "</li>\n",
    "</ol> "
   ]
  },
  {
   "cell_type": "markdown",
   "metadata": {},
   "source": [
    "<hr style=\"border:0.02in solid gray\"> </hr>"
   ]
  },
  {
   "cell_type": "code",
   "execution_count": null,
   "metadata": {},
   "outputs": [],
   "source": []
  },
  {
   "cell_type": "markdown",
   "metadata": {},
   "source": [
    "<br>"
   ]
  }
 ],
 "metadata": {
  "kernelspec": {
   "display_name": "Python 3 (ipykernel)",
   "language": "python",
   "name": "python3"
  },
  "language_info": {
   "codemirror_mode": {
    "name": "ipython",
    "version": 3
   },
   "file_extension": ".py",
   "mimetype": "text/x-python",
   "name": "python",
   "nbconvert_exporter": "python",
   "pygments_lexer": "ipython3",
   "version": "3.9.12"
  }
 },
 "nbformat": 4,
 "nbformat_minor": 4
}
